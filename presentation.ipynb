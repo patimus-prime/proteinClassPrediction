{
 "cells": [
  {
   "cell_type": "markdown",
   "id": "8997e4fc-ba53-4fb6-9e64-a4db61271af0",
   "metadata": {
    "slideshow": {
     "slide_type": "slide"
    }
   },
   "source": [
    "# “Go not to the Elves for counsel, for they will say both no and yes.”\n",
    "-- Frodo Baggins"
   ]
  },
  {
   "cell_type": "markdown",
   "id": "91343d3d",
   "metadata": {
    "slideshow": {
     "slide_type": "slide"
    }
   },
   "source": [
    "# Outline"
   ]
  },
  {
   "cell_type": "markdown",
   "id": "abea5907",
   "metadata": {
    "slideshow": {
     "slide_type": "fragment"
    }
   },
   "source": [
    "- Brief Pat101"
   ]
  },
  {
   "cell_type": "markdown",
   "id": "5d8e5b1a",
   "metadata": {
    "slideshow": {
     "slide_type": "fragment"
    }
   },
   "source": [
    "- Introduction to/Context of the problem"
   ]
  },
  {
   "cell_type": "markdown",
   "id": "6459ed13",
   "metadata": {
    "slideshow": {
     "slide_type": "fragment"
    }
   },
   "source": [
    "- Approach (merits, justification)"
   ]
  },
  {
   "cell_type": "markdown",
   "id": "3999c87a",
   "metadata": {
    "slideshow": {
     "slide_type": "fragment"
    }
   },
   "source": [
    "- Methods/Code"
   ]
  },
  {
   "cell_type": "markdown",
   "id": "37070f9f",
   "metadata": {
    "slideshow": {
     "slide_type": "fragment"
    }
   },
   "source": [
    "- Model and its Performance"
   ]
  },
  {
   "cell_type": "markdown",
   "id": "2c10bc2f",
   "metadata": {
    "slideshow": {
     "slide_type": "fragment"
    }
   },
   "source": [
    "- Conclusions"
   ]
  },
  {
   "cell_type": "markdown",
   "id": "a3ae7009",
   "metadata": {
    "slideshow": {
     "slide_type": "slide"
    }
   },
   "source": [
    "![pat101](pat101slide_july2022.PNG)"
   ]
  },
  {
   "cell_type": "markdown",
   "id": "29c40cf6",
   "metadata": {
    "slideshow": {
     "slide_type": "slide"
    }
   },
   "source": [
    "## THE PROBLEM"
   ]
  },
  {
   "cell_type": "markdown",
   "id": "9170e880",
   "metadata": {
    "slideshow": {
     "slide_type": "slide"
    }
   },
   "source": [
    "# SMILES -> L1"
   ]
  },
  {
   "cell_type": "markdown",
   "id": "766f7d1b",
   "metadata": {
    "slideshow": {
     "slide_type": "fragment"
    }
   },
   "source": [
    "Objective: Predict the L1 classification (e.g. 'Enzyme','Transcription Factor','Membrane protein/receptor') of the *protein* (not plural!) that a ligand may bind to, given the ligand's SMILES code."
   ]
  },
  {
   "cell_type": "markdown",
   "id": "7d6dc385",
   "metadata": {
    "slideshow": {
     "slide_type": "fragment"
    }
   },
   "source": [
    "ASSUMPTION: Each ligand binds to only one protein. (\"SMILES can bind with multiple categories of proteins, but it is rare.\")"
   ]
  },
  {
   "cell_type": "markdown",
   "id": "a13e61f4",
   "metadata": {
    "slideshow": {
     "slide_type": "slide"
    }
   },
   "source": [
    "# Context of the Problem"
   ]
  },
  {
   "cell_type": "markdown",
   "id": "a6d7870f",
   "metadata": {
    "slideshow": {
     "slide_type": "slide"
    }
   },
   "source": [
    "Ligand Screening, which may be done for many reasons:"
   ]
  },
  {
   "cell_type": "markdown",
   "id": "2906a62c",
   "metadata": {
    "slideshow": {
     "slide_type": "fragment"
    }
   },
   "source": [
    "- Reduce number of experiments and examine a *MUCH* larger chemical space"
   ]
  },
  {
   "cell_type": "markdown",
   "id": "56ec9540",
   "metadata": {
    "slideshow": {
     "slide_type": "fragment"
    }
   },
   "source": [
    "- Identify optimal ligands, i.e., the best N therapeutic candidates "
   ]
  },
  {
   "cell_type": "markdown",
   "id": "66901397",
   "metadata": {
    "slideshow": {
     "slide_type": "fragment"
    }
   },
   "source": [
    "- Study the commonalities of ligands that do bind; e.g. functional groups"
   ]
  },
  {
   "cell_type": "markdown",
   "id": "b0fbd966",
   "metadata": {
    "slideshow": {
     "slide_type": "fragment"
    }
   },
   "source": [
    "Not possible here given the assumption, but with a few modifications:"
   ]
  },
  {
   "cell_type": "markdown",
   "id": "70ba3097",
   "metadata": {
    "slideshow": {
     "slide_type": "fragment"
    }
   },
   "source": [
    "- Look for x-specific (e.g. bispecific) ligands"
   ]
  },
  {
   "cell_type": "markdown",
   "id": "98f1890e",
   "metadata": {
    "slideshow": {
     "slide_type": "fragment"
    }
   },
   "source": [
    "- Identify potential off-target effects, likelihood of side-effects... (with identified optimal ligands, see predicted probability of binding to other classes/proteins)"
   ]
  },
  {
   "cell_type": "markdown",
   "id": "354ea696",
   "metadata": {
    "slideshow": {
     "slide_type": "slide"
    }
   },
   "source": [
    "## THE APPROACH"
   ]
  },
  {
   "cell_type": "markdown",
   "id": "c57ab562",
   "metadata": {
    "slideshow": {
     "slide_type": "slide"
    }
   },
   "source": [
    "Given 1,000,000+ SMILES Codes and the *VERY* broad L1 Category (15 classes) ..."
   ]
  },
  {
   "cell_type": "markdown",
   "id": "e85891b2",
   "metadata": {
    "slideshow": {
     "slide_type": "fragment"
    }
   },
   "source": [
    "Chemical Approach:"
   ]
  },
  {
   "cell_type": "markdown",
   "id": "1f8bec1b",
   "metadata": {
    "slideshow": {
     "slide_type": "fragment"
    }
   },
   "source": [
    "- Generate/predict a bunch of chemical features (binding energy possible but not likely valuable in this study)"
   ]
  },
  {
   "cell_type": "markdown",
   "id": "94b0f2fd",
   "metadata": {
    "slideshow": {
     "slide_type": "fragment"
    }
   },
   "source": [
    "- Identify useful features from past work: see DeepTox"
   ]
  },
  {
   "cell_type": "markdown",
   "id": "991e9392",
   "metadata": {
    "slideshow": {
     "slide_type": "fragment"
    }
   },
   "source": [
    "- Comptuationally intensive - use subset of data during development"
   ]
  },
  {
   "cell_type": "markdown",
   "id": "3483ed99",
   "metadata": {
    "slideshow": {
     "slide_type": "fragment"
    }
   },
   "source": [
    "- Use ML classification algorithms to predict the SINGLE targets of ea. ligand"
   ]
  },
  {
   "cell_type": "markdown",
   "id": "d7713fa6",
   "metadata": {
    "slideshow": {
     "slide_type": "subslide"
    }
   },
   "source": [
    "Pros: "
   ]
  },
  {
   "cell_type": "markdown",
   "id": "8efefb4b",
   "metadata": {
    "slideshow": {
     "slide_type": "fragment"
    }
   },
   "source": [
    "- Can analyze specific chemical features in post-analysis"
   ]
  },
  {
   "cell_type": "markdown",
   "id": "6c0ab0f1",
   "metadata": {
    "slideshow": {
     "slide_type": "fragment"
    }
   },
   "source": [
    "- Reasonably modular/scalable; can add more predicted chemical features, docking results, *and assay results if they exist*"
   ]
  },
  {
   "cell_type": "markdown",
   "id": "d5bd5d3e",
   "metadata": {
    "slideshow": {
     "slide_type": "fragment"
    }
   },
   "source": [
    "Cons:"
   ]
  },
  {
   "cell_type": "markdown",
   "id": "d9ca0fcb",
   "metadata": {
    "slideshow": {
     "slide_type": "fragment"
    }
   },
   "source": [
    "- Limited structural information, e.g. 'fingerprint'"
   ]
  },
  {
   "cell_type": "markdown",
   "id": "9869bdb4",
   "metadata": {
    "slideshow": {
     "slide_type": "fragment"
    }
   },
   "source": [
    "- Computationally intensive, at least w. RDKIT and one EC2 instance; w. docking etc. much more intensive"
   ]
  },
  {
   "cell_type": "markdown",
   "id": "3cd83ba4",
   "metadata": {
    "slideshow": {
     "slide_type": "fragment"
    }
   },
   "source": [
    "- No assays, all data in-silico"
   ]
  },
  {
   "cell_type": "markdown",
   "id": "7d68ae9c",
   "metadata": {
    "slideshow": {
     "slide_type": "subslide"
    }
   },
   "source": [
    "Alternative Structural Approach (EXTREMELY NAIVE):"
   ]
  },
  {
   "cell_type": "markdown",
   "id": "72395bdd",
   "metadata": {
    "slideshow": {
     "slide_type": "fragment"
    }
   },
   "source": [
    "- One-Hot Encode (i.e. 1/0 if character is A, B, or C) the SMILES codes, as strings"
   ]
  },
  {
   "cell_type": "markdown",
   "id": "890ceedd",
   "metadata": {
    "slideshow": {
     "slide_type": "fragment"
    }
   },
   "source": [
    "- Predict class using convolutional neural network "
   ]
  },
  {
   "cell_type": "markdown",
   "id": "4e4f20b5",
   "metadata": {
    "slideshow": {
     "slide_type": "fragment"
    }
   },
   "source": [
    "- Based on work that followed up on DeepTox; identified interesting common structural features"
   ]
  },
  {
   "cell_type": "markdown",
   "id": "e4ac4244",
   "metadata": {
    "slideshow": {
     "slide_type": "subslide"
    }
   },
   "source": [
    "Pros:"
   ]
  },
  {
   "cell_type": "markdown",
   "id": "9137a79a",
   "metadata": {
    "slideshow": {
     "slide_type": "fragment"
    }
   },
   "source": [
    "- Identifies relevant, common structures that *ARE* SMILES codes and can be directly re-input to screen for ligands with that feature"
   ]
  },
  {
   "cell_type": "markdown",
   "id": "c449e8b5",
   "metadata": {
    "slideshow": {
     "slide_type": "fragment"
    }
   },
   "source": [
    "- Easier to implement"
   ]
  },
  {
   "cell_type": "markdown",
   "id": "95826e38",
   "metadata": {
    "slideshow": {
     "slide_type": "fragment"
    }
   },
   "source": [
    "Cons:"
   ]
  },
  {
   "cell_type": "markdown",
   "id": "3904b9e4",
   "metadata": {
    "slideshow": {
     "slide_type": "fragment"
    }
   },
   "source": [
    "- ONLY structural data generated; no further analysis can be done, no other features to analyze"
   ]
  },
  {
   "cell_type": "markdown",
   "id": "db3e3103",
   "metadata": {
    "slideshow": {
     "slide_type": "fragment"
    }
   },
   "source": [
    "Therefore more of a supplementary model to confirm hits or dig into exact structures of interest."
   ]
  },
  {
   "cell_type": "markdown",
   "id": "58c8f66d",
   "metadata": {
    "slideshow": {
     "slide_type": "fragment"
    }
   },
   "source": [
    "Citations:\n",
    "\n",
    "DeepTox:\n",
    "\n",
    "https://www.frontiersin.org/articles/10.3389/fenvs.2015.00080/full\n",
    "Mayr, Andreas, et al. \"DeepTox: toxicity prediction using deep learning.\" Frontiers in Environmental Science 3 (2016): 80.\n",
    "\n",
    "CNN/One-Hot:\n",
    "\n",
    "https://link.springer.com/article/10.1186/s12859-018-2523-5\n",
    "Hirohara, Maya, et al. \"Convolutional neural network based on SMILES representation of compounds for detecting chemical motif.\" BMC bioinformatics 19.19 (2018): 83-94."
   ]
  },
  {
   "cell_type": "markdown",
   "id": "3b3b1884",
   "metadata": {
    "slideshow": {
     "slide_type": "slide"
    }
   },
   "source": [
    "## Method/Codes"
   ]
  },
  {
   "cell_type": "code",
   "execution_count": 3,
   "id": "275131be-9539-44d4-aa7d-b633571ba610",
   "metadata": {
    "slideshow": {
     "slide_type": "slide"
    }
   },
   "outputs": [],
   "source": [
    "# coding: utf-8\n",
    "from sklearn import metrics\n",
    "from sklearn.naive_bayes import GaussianNB\n",
    "from sklearn.preprocessing import StandardScaler\n",
    "from sklearn.metrics import classification_report\n",
    "from sklearn.model_selection import train_test_split\n",
    "from sklearn import metrics\n",
    "from sklearn.metrics import accuracy_score\n",
    "import pandas as pd\n",
    "import sys as sys\n",
    "import os as os\n",
    "import ast as ast\n",
    "from rdkit import Chem\n",
    "from rdkit.Chem.SaltRemover import SaltRemover\n",
    "from rdkit.Chem import PandasTools\n",
    "from rdkit import RDConfig\n",
    "from rdkit.Chem import PandasTools as pdt\n",
    "from rdkit.Chem import Descriptors as D\n",
    "from xgboost import XGBClassifier\n",
    "import xgboost as xgb\n",
    "import numpy as np"
   ]
  },
  {
   "cell_type": "markdown",
   "id": "ac42e8a3",
   "metadata": {
    "slideshow": {
     "slide_type": "slide"
    }
   },
   "source": [
    "# Data loading..."
   ]
  },
  {
   "cell_type": "code",
   "execution_count": 4,
   "id": "600ff462",
   "metadata": {
    "slideshow": {
     "slide_type": "slide"
    }
   },
   "outputs": [],
   "source": [
    "\n",
    "# smiles_l1.csv should be in the same directory as the .ipynb\n",
    "\n",
    "big_df = pd.read_csv(\"smiles_l1.csv\")  # warning: BIG file\n",
    "\n",
    "# 1 million (Dr.Evil face) samples! let's get 1%; gives 16 classes including 'unknown'\n",
    "df = big_df.sample(frac=0.01, replace=False, random_state=11)\n",
    "\n",
    "# alternative if desired to train the model on EVERYTHING:\n",
    "# df = big_df\n",
    "\n",
    "df.dropna() #paranoia\n",
    "\n",
    "# get those lists in the 2nd column resolved; unknown to me still if they're just dup'd\n",
    "# using ast.literal_eval enables import as a list w one element rather than an entire list\n",
    "df.L1_class_name = df.L1_class_name.apply(ast.literal_eval)\n"
   ]
  },
  {
   "cell_type": "code",
   "execution_count": 5,
   "id": "381eb303",
   "metadata": {
    "slideshow": {
     "slide_type": "subslide"
    }
   },
   "outputs": [
    {
     "data": {
      "text/html": [
       "<div>\n",
       "<style scoped>\n",
       "    .dataframe tbody tr th:only-of-type {\n",
       "        vertical-align: middle;\n",
       "    }\n",
       "\n",
       "    .dataframe tbody tr th {\n",
       "        vertical-align: top;\n",
       "    }\n",
       "\n",
       "    .dataframe thead th {\n",
       "        text-align: right;\n",
       "    }\n",
       "</style>\n",
       "<table border=\"1\" class=\"dataframe\">\n",
       "  <thead>\n",
       "    <tr style=\"text-align: right;\">\n",
       "      <th></th>\n",
       "      <th>canonical_smiles</th>\n",
       "      <th>L1_class_name</th>\n",
       "    </tr>\n",
       "  </thead>\n",
       "  <tbody>\n",
       "    <tr>\n",
       "      <th>1160872</th>\n",
       "      <td>Nc1[nH]c(C(=O)c2ccccc2)c(-c2ccccc2C(F)(F)F)c1C...</td>\n",
       "      <td>[Enzyme]</td>\n",
       "    </tr>\n",
       "    <tr>\n",
       "      <th>347949</th>\n",
       "      <td>CCOC(=O)C(=O)Nc1cc(C)c(Oc2ccc(O)c(C(C)C)c2)c(C)c1</td>\n",
       "      <td>[Transcription factor]</td>\n",
       "    </tr>\n",
       "    <tr>\n",
       "      <th>585208</th>\n",
       "      <td>COCCn1c(=O)nc(Nc2ccc(OC(C)C)c(F)c2)n(Cc2ccc(Cl...</td>\n",
       "      <td>[Ion channel]</td>\n",
       "    </tr>\n",
       "    <tr>\n",
       "      <th>1018911</th>\n",
       "      <td>Cc1nc2sc(C(=O)NC3CCOC3)c(N)c2c(C)c1Cl</td>\n",
       "      <td>[Membrane receptor]</td>\n",
       "    </tr>\n",
       "    <tr>\n",
       "      <th>1276212</th>\n",
       "      <td>O=C(Nc1ccc(Oc2ccnc(NC(=O)C3CC3)c2)nc1)Nc1ccc(C...</td>\n",
       "      <td>[Enzyme]</td>\n",
       "    </tr>\n",
       "  </tbody>\n",
       "</table>\n",
       "</div>"
      ],
      "text/plain": [
       "                                          canonical_smiles  \\\n",
       "1160872  Nc1[nH]c(C(=O)c2ccccc2)c(-c2ccccc2C(F)(F)F)c1C...   \n",
       "347949   CCOC(=O)C(=O)Nc1cc(C)c(Oc2ccc(O)c(C(C)C)c2)c(C)c1   \n",
       "585208   COCCn1c(=O)nc(Nc2ccc(OC(C)C)c(F)c2)n(Cc2ccc(Cl...   \n",
       "1018911              Cc1nc2sc(C(=O)NC3CCOC3)c(N)c2c(C)c1Cl   \n",
       "1276212  O=C(Nc1ccc(Oc2ccnc(NC(=O)C3CC3)c2)nc1)Nc1ccc(C...   \n",
       "\n",
       "                  L1_class_name  \n",
       "1160872                [Enzyme]  \n",
       "347949   [Transcription factor]  \n",
       "585208            [Ion channel]  \n",
       "1018911     [Membrane receptor]  \n",
       "1276212                [Enzyme]  "
      ]
     },
     "execution_count": 5,
     "metadata": {},
     "output_type": "execute_result"
    }
   ],
   "source": [
    "df.head()"
   ]
  },
  {
   "cell_type": "code",
   "execution_count": 5,
   "id": "cbfbaa12",
   "metadata": {
    "slideshow": {
     "slide_type": "fragment"
    }
   },
   "outputs": [
    {
     "data": {
      "text/html": [
       "<div>\n",
       "<style scoped>\n",
       "    .dataframe tbody tr th:only-of-type {\n",
       "        vertical-align: middle;\n",
       "    }\n",
       "\n",
       "    .dataframe tbody tr th {\n",
       "        vertical-align: top;\n",
       "    }\n",
       "\n",
       "    .dataframe thead th {\n",
       "        text-align: right;\n",
       "    }\n",
       "</style>\n",
       "<table border=\"1\" class=\"dataframe\">\n",
       "  <thead>\n",
       "    <tr style=\"text-align: right;\">\n",
       "      <th></th>\n",
       "      <th>canonical_smiles</th>\n",
       "      <th>L1_class_name</th>\n",
       "    </tr>\n",
       "  </thead>\n",
       "  <tbody>\n",
       "    <tr>\n",
       "      <th>count</th>\n",
       "      <td>14379</td>\n",
       "      <td>14379</td>\n",
       "    </tr>\n",
       "    <tr>\n",
       "      <th>unique</th>\n",
       "      <td>14379</td>\n",
       "      <td>16</td>\n",
       "    </tr>\n",
       "    <tr>\n",
       "      <th>top</th>\n",
       "      <td>Nc1[nH]c(C(=O)c2ccccc2)c(-c2ccccc2C(F)(F)F)c1C...</td>\n",
       "      <td>[Enzyme]</td>\n",
       "    </tr>\n",
       "    <tr>\n",
       "      <th>freq</th>\n",
       "      <td>1</td>\n",
       "      <td>6967</td>\n",
       "    </tr>\n",
       "  </tbody>\n",
       "</table>\n",
       "</div>"
      ],
      "text/plain": [
       "                                         canonical_smiles L1_class_name\n",
       "count                                               14379         14379\n",
       "unique                                              14379            16\n",
       "top     Nc1[nH]c(C(=O)c2ccccc2)c(-c2ccccc2C(F)(F)F)c1C...      [Enzyme]\n",
       "freq                                                    1          6967"
      ]
     },
     "execution_count": 5,
     "metadata": {},
     "output_type": "execute_result"
    }
   ],
   "source": [
    "\n",
    "df.describe()"
   ]
  },
  {
   "cell_type": "markdown",
   "id": "65a262cf",
   "metadata": {
    "slideshow": {
     "slide_type": "slide"
    }
   },
   "source": [
    "# Process L1 Class data..."
   ]
  },
  {
   "cell_type": "code",
   "execution_count": 8,
   "id": "0e86175c",
   "metadata": {
    "slideshow": {
     "slide_type": "slide"
    }
   },
   "outputs": [
    {
     "data": {
      "text/html": [
       "<div>\n",
       "<style scoped>\n",
       "    .dataframe tbody tr th:only-of-type {\n",
       "        vertical-align: middle;\n",
       "    }\n",
       "\n",
       "    .dataframe tbody tr th {\n",
       "        vertical-align: top;\n",
       "    }\n",
       "\n",
       "    .dataframe thead th {\n",
       "        text-align: right;\n",
       "    }\n",
       "</style>\n",
       "<table border=\"1\" class=\"dataframe\">\n",
       "  <thead>\n",
       "    <tr style=\"text-align: right;\">\n",
       "      <th></th>\n",
       "      <th>canonical_smiles</th>\n",
       "      <th>L1_class_name</th>\n",
       "      <th>string_L1</th>\n",
       "      <th>Target_Class</th>\n",
       "    </tr>\n",
       "  </thead>\n",
       "  <tbody>\n",
       "    <tr>\n",
       "      <th>1160872</th>\n",
       "      <td>Nc1[nH]c(C(=O)c2ccccc2)c(-c2ccccc2C(F)(F)F)c1C...</td>\n",
       "      <td>[Enzyme]</td>\n",
       "      <td>Enzyme</td>\n",
       "      <td>0</td>\n",
       "    </tr>\n",
       "    <tr>\n",
       "      <th>347949</th>\n",
       "      <td>CCOC(=O)C(=O)Nc1cc(C)c(Oc2ccc(O)c(C(C)C)c2)c(C)c1</td>\n",
       "      <td>[Transcription factor]</td>\n",
       "      <td>Transcription factor</td>\n",
       "      <td>1</td>\n",
       "    </tr>\n",
       "    <tr>\n",
       "      <th>585208</th>\n",
       "      <td>COCCn1c(=O)nc(Nc2ccc(OC(C)C)c(F)c2)n(Cc2ccc(Cl...</td>\n",
       "      <td>[Ion channel]</td>\n",
       "      <td>Ion channel</td>\n",
       "      <td>2</td>\n",
       "    </tr>\n",
       "    <tr>\n",
       "      <th>1018911</th>\n",
       "      <td>Cc1nc2sc(C(=O)NC3CCOC3)c(N)c2c(C)c1Cl</td>\n",
       "      <td>[Membrane receptor]</td>\n",
       "      <td>Membrane receptor</td>\n",
       "      <td>3</td>\n",
       "    </tr>\n",
       "    <tr>\n",
       "      <th>1276212</th>\n",
       "      <td>O=C(Nc1ccc(Oc2ccnc(NC(=O)C3CC3)c2)nc1)Nc1ccc(C...</td>\n",
       "      <td>[Enzyme]</td>\n",
       "      <td>Enzyme</td>\n",
       "      <td>0</td>\n",
       "    </tr>\n",
       "  </tbody>\n",
       "</table>\n",
       "</div>"
      ],
      "text/plain": [
       "                                          canonical_smiles  \\\n",
       "1160872  Nc1[nH]c(C(=O)c2ccccc2)c(-c2ccccc2C(F)(F)F)c1C...   \n",
       "347949   CCOC(=O)C(=O)Nc1cc(C)c(Oc2ccc(O)c(C(C)C)c2)c(C)c1   \n",
       "585208   COCCn1c(=O)nc(Nc2ccc(OC(C)C)c(F)c2)n(Cc2ccc(Cl...   \n",
       "1018911              Cc1nc2sc(C(=O)NC3CCOC3)c(N)c2c(C)c1Cl   \n",
       "1276212  O=C(Nc1ccc(Oc2ccnc(NC(=O)C3CC3)c2)nc1)Nc1ccc(C...   \n",
       "\n",
       "                  L1_class_name             string_L1  Target_Class  \n",
       "1160872                [Enzyme]                Enzyme             0  \n",
       "347949   [Transcription factor]  Transcription factor             1  \n",
       "585208            [Ion channel]           Ion channel             2  \n",
       "1018911     [Membrane receptor]     Membrane receptor             3  \n",
       "1276212                [Enzyme]                Enzyme             0  "
      ]
     },
     "execution_count": 8,
     "metadata": {},
     "output_type": "execute_result"
    }
   ],
   "source": [
    "df['string_L1'] = df['L1_class_name'].apply(lambda x: x[0])\n",
    "df.head()\n",
    "# so this lambda fn; we set x = the first and only element in L1_class_name; that\n",
    "# x becomes string_L1 in our new column. \n",
    "\n",
    "# pd DEMANDS you declare your factors and get the KEY of what they are\n",
    "df['Target_Class'], uniques = pd.factorize(df.string_L1)\n",
    "df.head()"
   ]
  },
  {
   "cell_type": "code",
   "execution_count": 13,
   "id": "9686539e",
   "metadata": {
    "slideshow": {
     "slide_type": "fragment"
    }
   },
   "outputs": [
    {
     "data": {
      "text/plain": [
       "Index(['Enzyme', 'Transcription factor', 'Ion channel', 'Membrane receptor',\n",
       "       'Epigenetic regulator', 'Transporter', 'Structural protein',\n",
       "       'Secreted protein', 'Other cytosolic protein', 'Unclassified protein',\n",
       "       'Auxiliary transport protein', 'Other membrane protein',\n",
       "       'Surface antigen', 'Other nuclear protein', 'Adhesion'],\n",
       "      dtype='object')"
      ]
     },
     "execution_count": 13,
     "metadata": {},
     "output_type": "execute_result"
    }
   ],
   "source": [
    "uniques"
   ]
  },
  {
   "cell_type": "markdown",
   "id": "ce6a5dd4",
   "metadata": {
    "slideshow": {
     "slide_type": "slide"
    }
   },
   "source": [
    "# RDKit Molecules and Descriptors..."
   ]
  },
  {
   "cell_type": "code",
   "execution_count": 6,
   "id": "6d95f982",
   "metadata": {
    "slideshow": {
     "slide_type": "fragment"
    }
   },
   "outputs": [
    {
     "data": {
      "text/html": [
       "<div>\n",
       "<style scoped>\n",
       "    .dataframe tbody tr th:only-of-type {\n",
       "        vertical-align: middle;\n",
       "    }\n",
       "\n",
       "    .dataframe tbody tr th {\n",
       "        vertical-align: top;\n",
       "    }\n",
       "\n",
       "    .dataframe thead th {\n",
       "        text-align: right;\n",
       "    }\n",
       "</style>\n",
       "<table border=\"1\" class=\"dataframe\">\n",
       "  <thead>\n",
       "    <tr style=\"text-align: right;\">\n",
       "      <th></th>\n",
       "      <th>canonical_smiles</th>\n",
       "      <th>L1_class_name</th>\n",
       "      <th>ROMol</th>\n",
       "    </tr>\n",
       "  </thead>\n",
       "  <tbody>\n",
       "    <tr>\n",
       "      <th>1160872</th>\n",
       "      <td>Nc1[nH]c(C(=O)c2ccccc2)c(-c2ccccc2C(F)(F)F)c1C...</td>\n",
       "      <td>[Enzyme]</td>\n",
       "      <td style=\"text-align: center;\"><img data-content=\"rdkit/molecule\" src=\"data:image/png;base64,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\" alt=\"Mol\"/></td>\n",
       "    </tr>\n",
       "    <tr>\n",
       "      <th>347949</th>\n",
       "      <td>CCOC(=O)C(=O)Nc1cc(C)c(Oc2ccc(O)c(C(C)C)c2)c(C)c1</td>\n",
       "      <td>[Transcription factor]</td>\n",
       "      <td style=\"text-align: center;\"><img data-content=\"rdkit/molecule\" src=\"data:image/png;base64,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\" alt=\"Mol\"/></td>\n",
       "    </tr>\n",
       "    <tr>\n",
       "      <th>585208</th>\n",
       "      <td>COCCn1c(=O)nc(Nc2ccc(OC(C)C)c(F)c2)n(Cc2ccc(Cl...</td>\n",
       "      <td>[Ion channel]</td>\n",
       "      <td style=\"text-align: center;\"><img data-content=\"rdkit/molecule\" src=\"data:image/png;base64,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\" alt=\"Mol\"/></td>\n",
       "    </tr>\n",
       "    <tr>\n",
       "      <th>1018911</th>\n",
       "      <td>Cc1nc2sc(C(=O)NC3CCOC3)c(N)c2c(C)c1Cl</td>\n",
       "      <td>[Membrane receptor]</td>\n",
       "      <td style=\"text-align: center;\"><img data-content=\"rdkit/molecule\" src=\"data:image/png;base64,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\" alt=\"Mol\"/></td>\n",
       "    </tr>\n",
       "    <tr>\n",
       "      <th>1276212</th>\n",
       "      <td>O=C(Nc1ccc(Oc2ccnc(NC(=O)C3CC3)c2)nc1)Nc1ccc(C...</td>\n",
       "      <td>[Enzyme]</td>\n",
       "      <td style=\"text-align: center;\"><img data-content=\"rdkit/molecule\" src=\"data:image/png;base64,iVBORw0KGgoAAAANSUhEUgAAAMgAAADICAIAAAAiOjnJAAAABmJLR0QA/wD/AP+gvaeTAAAVtklEQVR4nO3ce1yUZdoH8IsZGI4DiCgH/VSi4rrLiqhsoYSYKbTAgqyoiQNJihDuKKKQugUhq5ShwdsJDyRpu5uUpWC5+qYEBGwB5gEFASEVkIOIohyGYa73jxuJFIZ5xrnfPXyu7x9+EJ77ue9hfvMcrvt+0ENEIETXRP/qAZD/ThQswgUFi3BBwSJcULAIFxQswgUFi3BBwSJcULAIFxQswgUFi3BBwSJcULAIFxQswgUFi3BBwSJcULAIFxQswgUFi3BBwSJcULAIFxQswgUFi3BBwSJcULAIFxQswgUFi3BBwSJcULAIFxQswgUFi3BBwSJcULAIFxQswgUFi3BBwSJcULAIFxQswgUFi3BBwSJcULAIFxQswgUFi3BBwSJcULAIFxQswgUFi3BBwSJcULAIFxQswgUFi3BBwSJcULAIFxQswgUFi3BBwSJcULAIFxQswgUFi3BBwSJcULAIFxQswgUFi3BBwSJcULAIFxQswgUFi3BBwSJcULAIFxQswgUFi3BBwSJcULAIFxQswgUFi3BBwSJcULAIFxQswgUFi3BBwSJcaB+sqp6q9Nb0813n99/ar8MBkf8OWgarWdm8/eZ2fwv/ZmXzpa5Luh0T+S+gZbBK7pf4W/jbGtg+L30eAFKbUwvuFeh0YOQ/m5bBsjGwud57nX3dpGyKqY/xrPLc3LBZgQoN93D9+vXU1NTc3Nzm5mbtxkD+nekhonYt32h8Qw/0rPWt7/TdEemJXmt4rRd7nYydDj11yNnYWU3DmpqatLS0PXv2dHd3S6VSY2PjPXv2+Pv7azcM8m8KdaTwXuGki5OgFJzKnHbt3qVSqR7dpqioKCAgQCQSAYBYLA4ICHBzc2PDCA8P7+jo0NVgyL+czoKFiB19HRE/RTj6OALA/Pnzr1+/PvCj/Px8X19fliGJRLJo0aIVK1acPHlSpVKlp6ebmJgAwIQJE/Ly8nQ4HqJD3d3dISEh8fHx//znPzXZXpfBYr7++ms7OzsAsLCwyMzMPHbsmKurK4uUVCoNDg7+4x//qK+vDwCenp6sSXl5+YwZMwBAX18/Li6up6dH56N6fO++i59/joi4c+e/eiiayc19+IvHERsby95EHx8fTbbXfbAQsampyc/PDwDYWQ8A7OzsIiMjvb299fT02Pd9fX1LSkoGmigUivj4eLFYDACurq6XL1/mMbDHsWULRkVhezuuW6dV+/p67OrS8ZjUWru2/4uoqMfdVX5+vlgs1tfXNzY2BoCysrIRm3AJFhMbG2toaGhlZfXhhx8+++yzLGEmJiZ/+tOf6urqhmySl5f31FNPsc3ee+89fmMT5OpVTEnBLVuwuhq3bMF167C3V+Au5HLctw/lciwu5jLEoURGYlISJiXh8uWPtZ/29vYnn3wSABISEuRyOQAEBweP2IpjsD777DMAWLRoESK++OKL5ubmcrm8oaFBfas7d+6Eh4cDwMKFC2/duiW41+ZmTEzEhAQ8d067YQ92/jzKZKivjwAYEoLd3fjOO7hsGc6di3I5anrGrq7G5GRERIUCIyMff1Qa0tURSyaTAcDMmTMVCsW1a9ckEolYLK6urlbfimOw3n//fQBYs2YNIjY0NAi66VuwYAEApKenC+5VLse2NlQqMSREcNtB8vLyIiP/R08PAdDAAEND8W9/Q6USFQpMSkKxGAFwxgwsL1e7l5oajIzEkyfxzTcREZVKjIzEe/cEjaS9vV2hUPT19Ql9CTt29H+xfbvQpj87cuQIO4FUVFSw74SEhADA2oHYDkNAgbS1t7emq6u2u1vD7Vnlc+zYseway8zMbMQmiOjp6RkYGGhkZDTQVhiFAkaNArEYRo0CjYc6eADZ2dnu7u4eHh779m2YOPHaSy/BihVgZATLloFYDAYGsHUr5OXBxIlQVgazZsHevV/jo7XA8+chJASmTIEPPoDDh6GuDg4fhi1bICgI5syBkBC4d2/EwTQ3NyckJEyYMCEsLMzd3b26ulrQa7G0hG++AQCwsBDU7mcNDQ2rV68GgJSUlClTprBvvvrqqyKRaN++fTdv3lTXWPPwvnXt2unbt/Pa2zXcPioqCgDS0tI07+LWrVsAYGlp+cwzzwDAd999p3nbfuvXY0sL9vbiSy8Jbou4c+dO9msZPXr0mjVrIiP3sYOToSG2tv5iy/v3US5HD4/z8MvaSm5urre3973f/AYBUCLBlSvx0iXs68PLl/H2bczLQyMjBMBJk7CoaLhhVFdXr1mzhn26AMDc3Jz9e+DAAc1fS0wMrl2LnZ1a3m2oVKrf//73AODl5fVQVfIPf/gDAPz5z39W01xYsI60tHyncbCCgoIA4O9//7vmXVRUVACAo6Ojg4MDAFRVVWneFhGxqwuvXMGkJHzjDbx0SVhbxNzc3HHjxkml0rVr186fPx8AzMykNjZtMtmwOzt2LIcdVq2srDZu3Mg+DwCw08MDo6NxUCXvZxcv4vTpCFA/bty2hASFQjH4h+fOnZPJZKwcw+6di4qKWltbFy9ezPYcGBjY0tKi/oU0NOD+/RgTgxUVmJSE69bhUOXqEaSlpQGAtbV1Y2PjQz8qLi4GAAsLi/bhwyAsWC0KxR2N74jmzp0LAKdPn9a8i7y8PABwd3dn5807d+5o3hYR8fhxBEAvLxw3DqdPF/rr/OSTTwBg2bJlDQ0NhoaGUqk0Jiamvn6EG4impiY2HzV69Gj2TsTHx7c+dHx7SE8PxsW94OoKALNmzWKXL6yGzMoxBgYGMpns0oM4JyYmjh07NjY2dtSoUQBgY2OTnZ095I5ralAuR2Nj1NPD0FBExKQkDA3FhQsxORk1vE5ra2tLTEwcM2YMAEyaNMnHxyc0NHTTpk0pKSmZmZlfffVVWVnZ008/DQA7h6/pCQuW5hsj4tSpUwHg4sWLmjdhN5LsfTIyMhLUHSJiRgYC4JIlCIBjxwptvXv3bgCQy+WImJOT09bWpnnb2bNnA0BwcPA9ja/Nv/32W1ZbMTY2njx5MjsgmZmZbdiwYfCkRV9fn5eXFwDo6ekFBwezwo2enl54ePjgvkpLS6OjT4tECIAiES5ejJmZiIidnfj668juQubNw59+UjekGzduxMTESKVSAGAhVm/evHnD7UpAsDr7+lSIR1tbV16+fF+pHHF7a2trAGhubta8C3YjuXz5cgB44oknNG/YLzkZAXDlSgRAJyehrbds2QIA27Zt07yJUqn08fEJCwtj7/1XX30lqEdWW5FIJObm5qNHj46Pjx+ywvLQxJdcLjc0NAQABweHgoKCgUOdqelYG5u+IU/c2dloY4MAaGmpysr630e7qKmpkcvlA1d1c+bMOXLkSF1dXXFxcXZ2dkZGxo4dO6Kjo1esWOHl5eXs7Gxvb6+vr9/d3T3cSxNcblhVUTGzpOTgzZvqN1MqlSKRSCwWK5VKlUo1wqnhgYSEBAB4+eWX2TlC6NhwwwYEwPBwBMDnnhPamt0BCapxNDY2snOTi4sLAAyeS9AQ+0WJRKK7d++q37K8vJz1oq+vHxYW5uTkxL5mUZBKpRs3bmxoGPYo29yMAQHo4fE+AAQFBQ28I2fPnpXJZGzOg13VaTgbqJ7g9VihtrYA8Nempl61620qKipUKpWlpaVYLE5NTZ06derRo0dH3HlLS8vAL0uLWsMOlWqZm9unUuk2T89vpk8X2nxwfURQkzFjxrCRazHm1tZWlUplbW2dnJy8fv16ltQh/frXvy4qKoqNjVWpVBkZGevXr1+yZImFhYWZmVl8fHxdXd3OnTvt7IY9f40ZA198AStXmkml0qysLGdn5927d/v5+bm4uBw8eFAsFstksvLy8uzs7N/97ndCX8UQhCZRhfhiefnMkpIvhznH1dXVyeVyY2NjS0tLkUgUFBTk7e3N+lq9erX6Mml9fX1+fn5KSgoAvCS8XrBw4UIAWLNmDTy4VBKEreERVOM4deoUADz33HPs3NQlfDbw/PnzAODk5DR+/HgA+En9RRAiIubm5oaGhvb19X300UcAECKwFFxTU+Ps7AwAVlZWACCVSuVy+Y0bN4SOXD3BRyw9gJesrCaWlSUFBqpUqsE/unDhgkwmmzRpUlpaWnd3t4ODg0QiycrKqqysjI2NNTEx2bt3729/+9v8/Pzhdm5vb+/o6JiTkwMAI9TfhsKOH729vQDAbmq0aK7FEcvS0rKnp8fCwmLgGkWLTtkxT5Nhz50798CBAyKRiLW1sbER1KODgwO795w+fToAbNy4MTU1ddy4cUJHrp42S5PnjxlT9tZbJQUFX3zxBftOQUGBn5+fs7PzoUOHVCqVr6/vDz/8UFpaevbs2VmzZtXW1r799tuBgYEuLi51dXXz5s179dVXFYqHFzHX1dWtW7duwoQJZ86csbKyOnHihL+/v6CFy+y96erqAq3OSgPnNaFNWHFEiyjDL6Npbm7Olg9oSPMsDtnQ1tYWhOdSQ9oESywWR0dHA8Cbb77JIvXss8/m5ORIJBKZTFZRUZGdnT1z5kwA+NWvflVUVJScnCwWiw8dOtTb2xsWFsYaZmRkDOzwwoULISEhkydPTktL6+rq8vX1lcvllpaWx44dmzZtWk7OCU1G1dLSYmVlZWRkVFJSYmJiwu5JNdfV1dXR0WFoaGhhYYGI9zSYcoEH75BEIgHtJqAeBMvU1FSLPejrz5wzRzZ+vLCrSURkw+7o6NCiUwHdaOHu3btsnoGxsrJ67bXX1FQWiouLWanGyMgoIiJiyZIlvb29OFRVcKDu1djY+MILLwCAq2u2TIZqrs2uXq2PiIgYOA2xvXl4eNTW1mr+ii5cuAAA9vb2iJiamvrkk0/marBAbtWqVQAQEREBAAEBAZp3N2Dr1q3w4EZ49uzZgtp6eyMAHj8urMe2tjYAsLCwYNeUBQUFwtprRnCwuru7MzMzWUrMzMwkEkl8fLya0v6A+/fvs9U8APD8889nZGSwoiIAmJqayuXyR69b+/r69uw5xebWJk8eYm7t3DmUydDBQSEWS/T09Hx9fQsLC0+cOGFvbw8A5ubmn3469MKvwZqamuLj4y0tLa2trcVisVwunzNnDgCIxeLNmzerX8565cqV7Ozs7du3A0B4ePiIfT2K1TjYDYfQaM6YgQD4ww/CelReudI9cWKLl1edv/+PHh4tlZXC2mtGQLDuKJUHrl4dOHI6OjqyCwJBxZsvv/yS7cHAwAAAWFVQfZXrwgU2t4b6+rh9O3Z3Y3s7fvwxenv3F5QlEoyLy7o0qCx4+/bt4ODgGTPi9PQwMBCHm1urqsK4uLfYDR0ATJkyhVU6pk2bFh0dzUbo5OR0Tu3Srra2NjaxqH5SdjhsmoEFS2g0x49HgBGK6UPIz0cAnD0bzc0RAG/fFtheI+qCpVCpFCpVH+IthSK9vt7z7NmZJSWekZEuLi6ZmZlKpXLjxo0AsGTJEkFd3rx5My4uLjEx8Z133tFwAkShwPh4XLwYly7FHTuwtra/CGpqinI5DjfV9Mkn3RYWCIB2dvj117/40Y8/9q/gc3P7dGCuFxG///57tj7E0NAwKipq4PSdnJz86IqomzdvskMdAAQGBl4TOOXFsPNRVlbWoUOHCgsLBbVlx/LOToFdfv45AqCfX/+HUosJag0MG6y7SmVkZWVmY+P+xsZnSktnlpTMLCmJunLlh0EXUvX19YaGhkampjWPTIDzoFJhTAxu24YnT2JKCr73Ho64wrSuDufORQB0celf+ffRRxgUhAD9v9XVq5WVlVcGN+ns7JTL5exC7emnn166dCk7nmVkZAxsU1lZuWrVqoFD3YIFC86cOaPdi/Lz8zM1Nd0ufDHeX/6C9+/j2bMoeG3RBx8gAC5fjgA4frzQfjWkLliv19aW3L1b09XlVla2vqrq4lBHl+Qvv/QuK0saZg27zsXEYGcnBgTgrl2aNunrw7ffxtOn0d8f//pX3LED4+LQzAzl8qFXtTD/+Mc/Bi7UXnnlFR8fH3a38egESPHjLWMvLCxk6WS1FTVbXrmCq1bhkSP9/w0MxORk/PFHHBR4zZw5g2FhmJKCbm7o56fluEeiLljxtbWlHR0dSmX78Etlrnd3u5aWupWWNv9yXREnH36IiHjiBH72mbCGtbWYloZr1+LmzVhVhZosXGhubl60aBF71xcvXpyTkzNwA8sKK7p6lOjw4cOsCD527NijR48+ukFpaWlUVCNbueDqiq2tWF6OGzZgYiJmZQkP1v37uGkTJibi669zOg+i+mB9UF+vyS5ia2pmlpSkqvn46w57KKGtDYWuhmfBun4dn3gCR3qe4xf279/PlpGwo5S5ufmmTZtGfCREqIHaCgDIZLKBia/CwkK2/H/WrNckEly8GKOi0MICXV1xwwa8fx8XLBAerPR0ZNPMmZm6eeZwKPrD1bdMRaJAzWqMoba239y+/e2dO2vHj+f9d9xu3ACVChQKEDrfY2YG06fD+PGwaxcIKW5DWFiYp6fnrl27JBKJtbX1K6+8wq7WdcvW1vb48eN79+6Njo4+ePBgQUHBxx9/7O7uXlVVderUKalUOm1ag4tLW2amlUIBenpgbQ2OjmBiAps2gYGBwM5aWsDeHgBg3DhoadH5a+mnk3h+e/v2noaGvQ0Nmq+I146fH27fjlu34htvCGt4/nz/QS41FfkUbnRj8NqYuLi4e/fuxcTELF26VCwWz579rkiEvr74/feP10dxMSYmYlMTRkQIO3oLobPHv4SuL9UOe+ioqUmbYEVE4Oef48sv/1sHCxF7enpiY2PZQ+QDVUMjI6OoKHlNjY76KC3F9HQU+kiBEDo7d13t6trb2FjZ2amrHQ6JPVIglcKDlTgC2NnB1KnAZ8pVlyQSCZuEnThxoru7O1vWUlNT8+67qQ4OOupjxgwID4dJk3S0uyEMe40llIOx8Wo7O13tbThz5wIAGBuDFmvRbG3/M4LFuLm5nTt3jj13NXha9j+F9n947SFHWloCtVo38v+jtxd6esDMDDo6wNgY9HX2gSJD01mwCBmM/s474YKCRbigYBEuKFiECwoW4YKCRbigYBEuKFiECwoW4YKCRbigYBEuKFiECwoW4YKCRbigYBEuKFiECwoW4YKCRbigYBEuKFiECwoW4YKCRbigYBEuKFiECwoW4YKCRbigYBEuKFiECwoW4YKCRbigYBEuKFiECwoW4YKCRbigYBEuKFiECwoW4YKCRbigYBEuKFiECwoW4YKCRbigYBEuKFiECwoW4YKCRbigYBEuKFiECwoW4YKCRbigYBEuKFiECwoW4YKCRbigYBEuKFiECwoW4YKCRbigYBEuKFiECwoW4YKCRbigYBEuKFiECwoW4YKCRbigYBEuKFiECwoW4YKCRbigYBEuKFiECwoW4YKCRbigYBEuKFiECwoW4YKCRbigYBEuKFiEi/8DfQJ8gdE5uqMAAAJnelRYdHJka2l0UEtMIHJka2l0IDIwMjIuMDMuMgAAeJx7v2/tPQYg4GWAAEYgVgJiVSBuYORg0ADSzExsEJqFnSEDzGdkc4AIsDmABZgZkRgQGbhWnCrZITLMMBUIwxnQjGBIANGMEJqJCU5jmgQTIN6dggwKIG/DFYK5LJwQUVQKrpebgVGDiZFJgYlZgZklg4mFNYGVLYOJjV2BnUOBgzODiZMrgYs7g4mbJ4GHV4GXT4GPX4OJT4BBQJBBUIiBRxioVCRBRDSDiVFMQUxcQVwig0lCMkFSKoNJSppBSiZBRpZBVo5BVp5BVoFBRjGDSZQ5QVE8QZgjQUiAQYSFjYWVTUSUmY2Ti5tHmINZUECITUJSSkZRXHwRIyT+wEDpSbbXgfd/GuxBHI/5QQdm2v7cB2KHPWY+cElzzX4Q+/954/0X8k3B7FPy7PbBk06A2ZPyPtpfdsgDs9e+YnC4Hi4ANoflVrjD1bkzwezfXpMdlvOutwOxPQ37HV53TAard+rf5rB6I8MBEPst2yOH3I/rweLzFZ45NK/7agtiq57hcFwy0xFsjlK1jOP0mxf2gs3Jk3J8F3kGrP67mZHjwhMcYDWun+wdTe88BLObFLwcFb+dB9u77NA+h+VZVWDxN7s87MPZtoHZeUzC+29peILZ/senHAg42A8201N1z4FJs9vB4TCNe8eBgtS5YDX9mfcPvJvP6gBizy1gPfjp7E6w+Cx5yYP6V4TB4mW17Adjz+iD3eljKXtw5gNdsJlKX40OmiWtALP5uYUP1qYzgf3ema5+8OAdXbA5X+Y8PzB3YxpYjRgAHYGpwpCIFEMAAAMielRYdE1PTCByZGtpdCAyMDIyLjAzLjIAAHicfVZbbhsxDPz3KXQBC3yJEj+bR4uiiA20ae9QoJ+9PzqUG62DCrUjYlee5Q5H5CCnkp+vT19+/i7rI0+nUyn0n7+IKD+UiE4vJS/Kw/Onz5fy+Prh4W3n8fr98vqtqBXteAbf99gPr9eXtx0u13LWyi5DW+FK1DtHIVzk53hUymMCJSi6lDNVG95jbJBaLuUslZx643LmqtZIfIO0zEm1k2jo7Wr05PwPsgFJtUkfEpmyuYe3DdAB5DqG8+iZMZS87zJ2AEGSTcUytesw2uAGBNKqXXwIMgsRy06fQD6rThBI8bMaB/EGxzSB1q27ZyncxHmnDjOQDZpYZC1JlobZDimQvENxhdRT8W6t7eRhRc5eOdhQDlXmCJcd0JBy1IZ3T1l6c2nbevJoovZB5LMvmDj6ri9Q5BVIbxwyWbZwi209eTgMaXAmkm9vasrbt48bElW4DZxPd2uqO2QeEEt1ldCU28i57zQSmrqHMw4Gv6ManOUOyNAI0gxjyt4wEfJd5SK3Rm/dpPl8pEGwHXIOD/rIQnGb7SGKodhB5/S0Onq0nDOqAgnadnbbDYp5NBwsulgwPVumOT9nrzHYoRJ6bnQM0w6ZZ3QeVRWOlDmtcYstUZzRr3IOlE+CdpGqFGNrCBK3pOaDddZEJiE7pdLnMunIqiOhsCOhrSFx+QgpoeWwYX0OCKOzd2RVEhuYEMKoz6lT9P6OLNos06KTXPr0GDDgtiU7z6pX0Q7/nL5EjBHcQJ8vT+8M+mbZD9fL02HZkusw5tzQw30Zyw6LzW87fBQ3xQ+3NKx+eCJjjcP6GCsOhzMsvncyy8B851iWgRc5OJNl4MWPk2CGRTE7cobFMpskAy+i8A6eO4srJ9kMiy4n3wyLMSdlvEvuZ9tQoizKkpQR5NDzJqgsxpKMEWQxltQUQRZjSWERZDGW1BZBFmNJxgiyGGMybO4sxhgAzqD3fc5lNvFdO992FmWVvztHF2hmRp7FWSdnOTpDk7LaXVk6KdNx4jo1jjvVszvvezHv3/71wPXpD2a1oiSrczG7AAABmXpUWHRTTUlMRVMgcmRraXQgMjAyMi4wMy4yAAB4nC1SS2rlQBC7yixtsJv6f3hkZcgy7xC9HXKCHH7UnQFjjFBJKpXfH8/xNXnOebynzPk9j6/n+Hifjz6PnlPO78nnf8bz98Tr+DzxfJ6T//wctw4OKbt4EGXK9QIiTZ3XTcMqsguYDApKv24eak4KiEaSaOu1vyo1rxcNlyzpxfMIiLx4VAX3YrVSJCCIsalcYIfC+qVDU6KQQYgY4jaCoEIw4yZegKVhFrrsEojpMLWG7lKjpZLIqPqbMc1jIdxsBR3m7jVVw61BRmQPcSj3yCKKlY+JO2tB4dyyl+iwxhKw1T3masq8ESgGImeYIzLLCN2ZjYJRFRJ2sAQQqKIBtJNlTIIhE6HcJXqa+CJl+TK/sbu16l5VlDB3+6hs95VRwsp/sXQ2Xp3JCvK6Y3Rx2IVCKmtxaqg2OoKf86I07EgEFAiXbopF8T4imTS3b1rJ2hsg7i+0Yq0KCl2udtl/WbiN7ANo+tqGsTx+pmuP8eLkEMXnvj7xusX58w/RG42ZoRVA5wAAAABJRU5ErkJggg==\" alt=\"Mol\"/></td>\n",
       "    </tr>\n",
       "  </tbody>\n",
       "</table>\n",
       "</div>"
      ],
      "text/plain": [
       "                                          canonical_smiles  \\\n",
       "1160872  Nc1[nH]c(C(=O)c2ccccc2)c(-c2ccccc2C(F)(F)F)c1C...   \n",
       "347949   CCOC(=O)C(=O)Nc1cc(C)c(Oc2ccc(O)c(C(C)C)c2)c(C)c1   \n",
       "585208   COCCn1c(=O)nc(Nc2ccc(OC(C)C)c(F)c2)n(Cc2ccc(Cl...   \n",
       "1018911              Cc1nc2sc(C(=O)NC3CCOC3)c(N)c2c(C)c1Cl   \n",
       "1276212  O=C(Nc1ccc(Oc2ccnc(NC(=O)C3CC3)c2)nc1)Nc1ccc(C...   \n",
       "\n",
       "                  L1_class_name  \\\n",
       "1160872                [Enzyme]   \n",
       "347949   [Transcription factor]   \n",
       "585208            [Ion channel]   \n",
       "1018911     [Membrane receptor]   \n",
       "1276212                [Enzyme]   \n",
       "\n",
       "                                                     ROMol  \n",
       "1160872  <img data-content=\"rdkit/molecule\" src=\"data:i...  \n",
       "347949   <img data-content=\"rdkit/molecule\" src=\"data:i...  \n",
       "585208   <img data-content=\"rdkit/molecule\" src=\"data:i...  \n",
       "1018911  <img data-content=\"rdkit/molecule\" src=\"data:i...  \n",
       "1276212  <img data-content=\"rdkit/molecule\" src=\"data:i...  "
      ]
     },
     "execution_count": 6,
     "metadata": {},
     "output_type": "execute_result"
    }
   ],
   "source": [
    "# takes ~ 26 seconds with 1% of data and t3.xlarge\n",
    "pdt.AddMoleculeColumnToFrame(df, 'canonical_smiles', includeFingerprints=True)\n",
    "df.head()"
   ]
  },
  {
   "cell_type": "markdown",
   "id": "4b7e53e9",
   "metadata": {
    "slideshow": {
     "slide_type": "slide"
    }
   },
   "source": [
    "# Salt processing..."
   ]
  },
  {
   "cell_type": "markdown",
   "id": "51bfbc55",
   "metadata": {
    "slideshow": {
     "slide_type": "fragment"
    }
   },
   "source": [
    "Salts are relevant here, but there were several molecules that only differed by number of salts; don't wanna bias the data with duplicates so:"
   ]
  },
  {
   "cell_type": "code",
   "execution_count": 16,
   "id": "e2435854",
   "metadata": {
    "slideshow": {
     "slide_type": "fragment"
    }
   },
   "outputs": [],
   "source": [
    "# It contains all the salts that I could find (searching through the .csv for .[] etc.) in this dataset\n",
    "remover = SaltRemover(defnData=\"[Cl,Br,Zn,Mg,Ca,Sr,Na,K]\")\n",
    "\n",
    "# in this case we don't add a new column, just apply a function to the molecules\n",
    "df['ROMol'].apply(lambda x: remover.StripMol(x))\n",
    "\n",
    "df['Cleaned_SMILES'] = df['ROMol'].apply(lambda x: Chem.MolToSmiles(x))\n"
   ]
  },
  {
   "cell_type": "code",
   "execution_count": 17,
   "id": "8c281f66",
   "metadata": {
    "slideshow": {
     "slide_type": "fragment"
    }
   },
   "outputs": [
    {
     "data": {
      "text/html": [
       "<div>\n",
       "<style scoped>\n",
       "    .dataframe tbody tr th:only-of-type {\n",
       "        vertical-align: middle;\n",
       "    }\n",
       "\n",
       "    .dataframe tbody tr th {\n",
       "        vertical-align: top;\n",
       "    }\n",
       "\n",
       "    .dataframe thead th {\n",
       "        text-align: right;\n",
       "    }\n",
       "</style>\n",
       "<table border=\"1\" class=\"dataframe\">\n",
       "  <thead>\n",
       "    <tr style=\"text-align: right;\">\n",
       "      <th></th>\n",
       "      <th>canonical_smiles</th>\n",
       "      <th>L1_class_name</th>\n",
       "      <th>string_L1</th>\n",
       "      <th>Target_Class</th>\n",
       "      <th>ROMol</th>\n",
       "      <th>Cleaned_SMILES</th>\n",
       "    </tr>\n",
       "  </thead>\n",
       "  <tbody>\n",
       "    <tr>\n",
       "      <th>1160872</th>\n",
       "      <td>Nc1[nH]c(C(=O)c2ccccc2)c(-c2ccccc2C(F)(F)F)c1C...</td>\n",
       "      <td>[Enzyme]</td>\n",
       "      <td>Enzyme</td>\n",
       "      <td>0</td>\n",
       "      <td>&lt;img data-content=\"rdkit/molecule\" src=\"data:image/png;base64,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\" alt=\"Mol\"/&gt;</td>\n",
       "      <td>Nc1[nH]c(C(=O)c2ccccc2)c(-c2ccccc2C(F)(F)F)c1C...</td>\n",
       "    </tr>\n",
       "    <tr>\n",
       "      <th>347949</th>\n",
       "      <td>CCOC(=O)C(=O)Nc1cc(C)c(Oc2ccc(O)c(C(C)C)c2)c(C)c1</td>\n",
       "      <td>[Transcription factor]</td>\n",
       "      <td>Transcription factor</td>\n",
       "      <td>1</td>\n",
       "      <td>&lt;img data-content=\"rdkit/molecule\" src=\"data:image/png;base64,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\" alt=\"Mol\"/&gt;</td>\n",
       "      <td>CCOC(=O)C(=O)Nc1cc(C)c(Oc2ccc(O)c(C(C)C)c2)c(C)c1</td>\n",
       "    </tr>\n",
       "    <tr>\n",
       "      <th>585208</th>\n",
       "      <td>COCCn1c(=O)nc(Nc2ccc(OC(C)C)c(F)c2)n(Cc2ccc(Cl...</td>\n",
       "      <td>[Ion channel]</td>\n",
       "      <td>Ion channel</td>\n",
       "      <td>2</td>\n",
       "      <td>&lt;img data-content=\"rdkit/molecule\" src=\"data:image/png;base64,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\" alt=\"Mol\"/&gt;</td>\n",
       "      <td>COCCn1c(=O)nc(Nc2ccc(OC(C)C)c(F)c2)n(Cc2ccc(Cl...</td>\n",
       "    </tr>\n",
       "    <tr>\n",
       "      <th>1018911</th>\n",
       "      <td>Cc1nc2sc(C(=O)NC3CCOC3)c(N)c2c(C)c1Cl</td>\n",
       "      <td>[Membrane receptor]</td>\n",
       "      <td>Membrane receptor</td>\n",
       "      <td>3</td>\n",
       "      <td>&lt;img data-content=\"rdkit/molecule\" src=\"data:image/png;base64,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\" alt=\"Mol\"/&gt;</td>\n",
       "      <td>Cc1nc2sc(C(=O)NC3CCOC3)c(N)c2c(C)c1Cl</td>\n",
       "    </tr>\n",
       "    <tr>\n",
       "      <th>1276212</th>\n",
       "      <td>O=C(Nc1ccc(Oc2ccnc(NC(=O)C3CC3)c2)nc1)Nc1ccc(C...</td>\n",
       "      <td>[Enzyme]</td>\n",
       "      <td>Enzyme</td>\n",
       "      <td>0</td>\n",
       "      <td>&lt;img data-content=\"rdkit/molecule\" src=\"data:image/png;base64,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\" alt=\"Mol\"/&gt;</td>\n",
       "      <td>O=C(Nc1ccc(Oc2ccnc(NC(=O)C3CC3)c2)nc1)Nc1ccc(C...</td>\n",
       "    </tr>\n",
       "  </tbody>\n",
       "</table>\n",
       "</div>"
      ],
      "text/plain": [
       "                                          canonical_smiles  \\\n",
       "1160872  Nc1[nH]c(C(=O)c2ccccc2)c(-c2ccccc2C(F)(F)F)c1C...   \n",
       "347949   CCOC(=O)C(=O)Nc1cc(C)c(Oc2ccc(O)c(C(C)C)c2)c(C)c1   \n",
       "585208   COCCn1c(=O)nc(Nc2ccc(OC(C)C)c(F)c2)n(Cc2ccc(Cl...   \n",
       "1018911              Cc1nc2sc(C(=O)NC3CCOC3)c(N)c2c(C)c1Cl   \n",
       "1276212  O=C(Nc1ccc(Oc2ccnc(NC(=O)C3CC3)c2)nc1)Nc1ccc(C...   \n",
       "\n",
       "                  L1_class_name             string_L1  Target_Class  \\\n",
       "1160872                [Enzyme]                Enzyme             0   \n",
       "347949   [Transcription factor]  Transcription factor             1   \n",
       "585208            [Ion channel]           Ion channel             2   \n",
       "1018911     [Membrane receptor]     Membrane receptor             3   \n",
       "1276212                [Enzyme]                Enzyme             0   \n",
       "\n",
       "                                                     ROMol  \\\n",
       "1160872  <img data-content=\"rdkit/molecule\" src=\"data:i...   \n",
       "347949   <img data-content=\"rdkit/molecule\" src=\"data:i...   \n",
       "585208   <img data-content=\"rdkit/molecule\" src=\"data:i...   \n",
       "1018911  <img data-content=\"rdkit/molecule\" src=\"data:i...   \n",
       "1276212  <img data-content=\"rdkit/molecule\" src=\"data:i...   \n",
       "\n",
       "                                            Cleaned_SMILES  \n",
       "1160872  Nc1[nH]c(C(=O)c2ccccc2)c(-c2ccccc2C(F)(F)F)c1C...  \n",
       "347949   CCOC(=O)C(=O)Nc1cc(C)c(Oc2ccc(O)c(C(C)C)c2)c(C)c1  \n",
       "585208   COCCn1c(=O)nc(Nc2ccc(OC(C)C)c(F)c2)n(Cc2ccc(Cl...  \n",
       "1018911              Cc1nc2sc(C(=O)NC3CCOC3)c(N)c2c(C)c1Cl  \n",
       "1276212  O=C(Nc1ccc(Oc2ccnc(NC(=O)C3CC3)c2)nc1)Nc1ccc(C...  "
      ]
     },
     "execution_count": 17,
     "metadata": {},
     "output_type": "execute_result"
    }
   ],
   "source": [
    "df.head()"
   ]
  },
  {
   "cell_type": "code",
   "execution_count": 18,
   "id": "406d1560",
   "metadata": {
    "slideshow": {
     "slide_type": "slide"
    }
   },
   "outputs": [
    {
     "data": {
      "text/html": [
       "<div>\n",
       "<style scoped>\n",
       "    .dataframe tbody tr th:only-of-type {\n",
       "        vertical-align: middle;\n",
       "    }\n",
       "\n",
       "    .dataframe tbody tr th {\n",
       "        vertical-align: top;\n",
       "    }\n",
       "\n",
       "    .dataframe thead th {\n",
       "        text-align: right;\n",
       "    }\n",
       "</style>\n",
       "<table border=\"1\" class=\"dataframe\">\n",
       "  <thead>\n",
       "    <tr style=\"text-align: right;\">\n",
       "      <th></th>\n",
       "      <th>Target_Class</th>\n",
       "    </tr>\n",
       "  </thead>\n",
       "  <tbody>\n",
       "    <tr>\n",
       "      <th>count</th>\n",
       "      <td>14379.000000</td>\n",
       "    </tr>\n",
       "    <tr>\n",
       "      <th>mean</th>\n",
       "      <td>2.233465</td>\n",
       "    </tr>\n",
       "    <tr>\n",
       "      <th>std</th>\n",
       "      <td>2.907931</td>\n",
       "    </tr>\n",
       "    <tr>\n",
       "      <th>min</th>\n",
       "      <td>0.000000</td>\n",
       "    </tr>\n",
       "    <tr>\n",
       "      <th>25%</th>\n",
       "      <td>0.000000</td>\n",
       "    </tr>\n",
       "    <tr>\n",
       "      <th>50%</th>\n",
       "      <td>1.000000</td>\n",
       "    </tr>\n",
       "    <tr>\n",
       "      <th>75%</th>\n",
       "      <td>3.000000</td>\n",
       "    </tr>\n",
       "    <tr>\n",
       "      <th>max</th>\n",
       "      <td>14.000000</td>\n",
       "    </tr>\n",
       "  </tbody>\n",
       "</table>\n",
       "</div>"
      ],
      "text/plain": [
       "       Target_Class\n",
       "count  14379.000000\n",
       "mean       2.233465\n",
       "std        2.907931\n",
       "min        0.000000\n",
       "25%        0.000000\n",
       "50%        1.000000\n",
       "75%        3.000000\n",
       "max       14.000000"
      ]
     },
     "execution_count": 18,
     "metadata": {},
     "output_type": "execute_result"
    }
   ],
   "source": [
    "# we're gonna get rid of duplicates, let's see original sample #s:\n",
    "df.describe()"
   ]
  },
  {
   "cell_type": "code",
   "execution_count": 19,
   "id": "cfb0b2a8",
   "metadata": {
    "slideshow": {
     "slide_type": "fragment"
    }
   },
   "outputs": [
    {
     "data": {
      "text/html": [
       "<div>\n",
       "<style scoped>\n",
       "    .dataframe tbody tr th:only-of-type {\n",
       "        vertical-align: middle;\n",
       "    }\n",
       "\n",
       "    .dataframe tbody tr th {\n",
       "        vertical-align: top;\n",
       "    }\n",
       "\n",
       "    .dataframe thead th {\n",
       "        text-align: right;\n",
       "    }\n",
       "</style>\n",
       "<table border=\"1\" class=\"dataframe\">\n",
       "  <thead>\n",
       "    <tr style=\"text-align: right;\">\n",
       "      <th></th>\n",
       "      <th>Target_Class</th>\n",
       "    </tr>\n",
       "  </thead>\n",
       "  <tbody>\n",
       "    <tr>\n",
       "      <th>count</th>\n",
       "      <td>14379.000000</td>\n",
       "    </tr>\n",
       "    <tr>\n",
       "      <th>mean</th>\n",
       "      <td>2.233465</td>\n",
       "    </tr>\n",
       "    <tr>\n",
       "      <th>std</th>\n",
       "      <td>2.907931</td>\n",
       "    </tr>\n",
       "    <tr>\n",
       "      <th>min</th>\n",
       "      <td>0.000000</td>\n",
       "    </tr>\n",
       "    <tr>\n",
       "      <th>25%</th>\n",
       "      <td>0.000000</td>\n",
       "    </tr>\n",
       "    <tr>\n",
       "      <th>50%</th>\n",
       "      <td>1.000000</td>\n",
       "    </tr>\n",
       "    <tr>\n",
       "      <th>75%</th>\n",
       "      <td>3.000000</td>\n",
       "    </tr>\n",
       "    <tr>\n",
       "      <th>max</th>\n",
       "      <td>14.000000</td>\n",
       "    </tr>\n",
       "  </tbody>\n",
       "</table>\n",
       "</div>"
      ],
      "text/plain": [
       "       Target_Class\n",
       "count  14379.000000\n",
       "mean       2.233465\n",
       "std        2.907931\n",
       "min        0.000000\n",
       "25%        0.000000\n",
       "50%        1.000000\n",
       "75%        3.000000\n",
       "max       14.000000"
      ]
     },
     "execution_count": 19,
     "metadata": {},
     "output_type": "execute_result"
    }
   ],
   "source": [
    "# now drop duplicate mols based on cleaned up smiles\n",
    "\n",
    "# Drop the duplicate mols, keep only the first one; big danger\n",
    "# that some of the salts may matter... but one of those samples had like\n",
    "# 20 salts and that's real sus to me\n",
    "df = df.drop_duplicates(subset='Cleaned_SMILES',keep='first') \n",
    "df.describe()\n",
    "\n",
    "# welp, in this sample we all gucci. w. settings:\n",
    "# df = big_df.sample(frac=0.01, replace=False, random_state=11)"
   ]
  },
  {
   "cell_type": "markdown",
   "id": "6fc8e0fc",
   "metadata": {
    "slideshow": {
     "slide_type": "slide"
    }
   },
   "source": [
    "# Feature Generation (finally)"
   ]
  },
  {
   "cell_type": "code",
   "execution_count": 20,
   "id": "e320c4c5",
   "metadata": {
    "slideshow": {
     "slide_type": "slide"
    }
   },
   "outputs": [],
   "source": [
    "# takes ~30 seconds, 1% data, t3.xlarge\n",
    "\n",
    "# topological polar surface area for the molecule; \n",
    "# poking around the data it seemed there were a number\n",
    "# of polar phosphate-salt groups, so the S and P option is used\n",
    "# ... without noticeable effect on end results vs. not including S and P, I'll add\n",
    "df['TPSA'] = df['ROMol'].apply(lambda x: D.TPSA(x, includeSandP = True))\n",
    "\n",
    "# the rest I think require less explanation:\n",
    "df['MolLogP'] = df['ROMol'].apply(lambda x: D.MolLogP(x))\n",
    "df['MolWt'] = df['ROMol'].apply(lambda x: D.MolWt(x))\n",
    "df['MaxPartialCharge'] = df['ROMol'].apply(lambda x: D.MaxPartialCharge(x))\n",
    "df['MinPartialCharge'] = df['ROMol'].apply(lambda x: D.MinPartialCharge(x))\n",
    "df['HeavyAtomMolWt'] = df['ROMol'].apply(lambda x: D.HeavyAtomMolWt(x))\n",
    "df['NumRadicalElectrons'] = df['ROMol'].apply(\n",
    "    lambda x: D.NumRadicalElectrons(x))\n",
    "df['NumValenceElectrons'] = df['ROMol'].apply(\n",
    "    lambda x: D.NumValenceElectrons(x))\n",
    "df['NumHAcceptors'] = df['ROMol'].apply(lambda x: D.NumHAcceptors(x))\n",
    "df['NumHDonors'] = df['ROMol'].apply(lambda x: D.NumHDonors(x))\n",
    "df['NumAromaticRings'] = df['ROMol'].apply(lambda x: D.NumAromaticRings(x))\n",
    "\n",
    "# ... except for these, which I thought could be interesting;\n",
    "# Morgan fingerprint, at least my perception, is somewhat analagous to ECFP:\n",
    "# https://pubs.acs.org/doi/10.1021/ci100050t\n",
    "# Rogers, David, and Mathew Hahn. \"Extended-connectivity fingerprints.\" Journal of chemical information and modeling 50.5 (2010): 742-754.\n",
    "# this exact implementation here in RDKit is... honestly not too clearly documented\n",
    "# but I thought it'd be interesting to include; the visual implementation is more informative than this number I think\n",
    "\n",
    "df['FpDensityMorgan1'] = df['ROMol'].apply(lambda x: D.FpDensityMorgan1(x))\n",
    "df['FpDensityMorgan2'] = df['ROMol'].apply(lambda x: D.FpDensityMorgan2(x))\n",
    "df['FpDensityMorgan3'] = df['ROMol'].apply(lambda x: D.FpDensityMorgan3(x))\n",
    "\n",
    "# OG paper:\n",
    "# https://pubs.acs.org/doi/pdf/10.1021/c160017a018\n",
    "# 1965!! \n",
    "# Morgan, Harry L. \"The generation of a unique machine description for chemical structures-a technique developed at chemical abstracts service.\" Journal of chemical documentation 5.2 (1965): 107-113.\n",
    "\n",
    "# more LOTR:\n",
    "# Capecchi, Alice, Daniel Probst, and Jean-Louis Reymond. \n",
    "# \"One molecular fingerprint to rule them all: drugs, biomolecules, and the metabolome.\" Journal of cheminformatics 12.1 (2020): 1-15."
   ]
  },
  {
   "cell_type": "markdown",
   "id": "50a3db09",
   "metadata": {
    "slideshow": {
     "slide_type": "slide"
    }
   },
   "source": [
    "# Move Y to the end...\n",
    "\n",
    "And see data types, sanity check"
   ]
  },
  {
   "cell_type": "code",
   "execution_count": 21,
   "id": "ac5c7455",
   "metadata": {
    "slideshow": {
     "slide_type": "fragment"
    }
   },
   "outputs": [
    {
     "data": {
      "text/plain": [
       "canonical_smiles        object\n",
       "L1_class_name           object\n",
       "string_L1               object\n",
       "ROMol                   object\n",
       "Cleaned_SMILES          object\n",
       "TPSA                   float64\n",
       "MolLogP                float64\n",
       "MolWt                  float64\n",
       "MaxPartialCharge       float64\n",
       "MinPartialCharge       float64\n",
       "HeavyAtomMolWt         float64\n",
       "NumRadicalElectrons      int64\n",
       "NumValenceElectrons      int64\n",
       "NumHAcceptors            int64\n",
       "NumHDonors               int64\n",
       "NumAromaticRings         int64\n",
       "FpDensityMorgan1       float64\n",
       "FpDensityMorgan2       float64\n",
       "FpDensityMorgan3       float64\n",
       "Target_Class             int64\n",
       "dtype: object"
      ]
     },
     "execution_count": 21,
     "metadata": {},
     "output_type": "execute_result"
    }
   ],
   "source": [
    "# I'm more familiar with data wrangling in R so,\n",
    "# credit to Charlie Haley from this stackoverflow, this operation IMO is easier in R:\n",
    "# https://stackoverflow.com/questions/35321812/move-column-in-pandas-dataframe\n",
    "# Charlie Haley's answer \n",
    "\n",
    "colNames = df.columns.values\n",
    "colNames = list(df.columns.values)\n",
    "colNames.pop(colNames.index('Target_Class'))\n",
    "df = df[colNames + ['Target_Class']]\n",
    "\n",
    "# this manipulation though is potentially the source of some error I was having in the next step, so out of paranoia:\n",
    "df.dropna()\n",
    "df.dtypes"
   ]
  },
  {
   "cell_type": "markdown",
   "id": "c98bf62d",
   "metadata": {
    "slideshow": {
     "slide_type": "skip"
    }
   },
   "source": [
    "Apologies that the ROMol column is pretty gnarly, if you scroll far enough the Y, Target_Class is there.\n",
    "\n",
    "Now to finally separate out train and test samples. \n",
    "\n",
    "(WARNING: I'm pretty sure it's this next operation rather than the above column manipualtion that generates some errors in a basic Naive-Bayes model; not sure what it is about scikit but I'm pretty sure XGBoost fixes itself and otherwise I had to do some weird operation to resolve some NA errors generated by NA's that don't exist up until this point. I include this explanation and note the code below in case during the reproduction of this code a similar error occurs.)"
   ]
  },
  {
   "cell_type": "markdown",
   "id": "ffda06e2",
   "metadata": {
    "slideshow": {
     "slide_type": "slide"
    }
   },
   "source": [
    "# Split the data:"
   ]
  },
  {
   "cell_type": "code",
   "execution_count": 22,
   "id": "8ef9f706",
   "metadata": {
    "slideshow": {
     "slide_type": "fragment"
    }
   },
   "outputs": [],
   "source": [
    "x_train, x_test, y_train, y_test = train_test_split(df[['TPSA', 'MolLogP', 'MolWt', 'MaxPartialCharge', 'MinPartialCharge', 'HeavyAtomMolWt', 'NumRadicalElectrons', 'NumValenceElectrons',\n",
    "                                                    'NumHAcceptors', 'NumHDonors', 'NumAromaticRings', 'FpDensityMorgan1', 'FpDensityMorgan2', 'FpDensityMorgan3']], df.Target_Class, test_size=0.2, random_state=1)\n"
   ]
  },
  {
   "cell_type": "markdown",
   "id": "13861486",
   "metadata": {},
   "source": [
    "Note random state = 1 is specified above, so I can discuss the results with confidence they're the same... although getting different data (from sampling df from big_df above) didn't seem to make much difference anyway.\n",
    "\n",
    "Now, scale/normalize our data:"
   ]
  },
  {
   "cell_type": "markdown",
   "id": "172b2ce9",
   "metadata": {
    "slideshow": {
     "slide_type": "slide"
    }
   },
   "source": [
    "# Normalize data:"
   ]
  },
  {
   "cell_type": "code",
   "execution_count": 26,
   "id": "494d2a2f",
   "metadata": {
    "slideshow": {
     "slide_type": "fragment"
    }
   },
   "outputs": [],
   "source": [
    "sc = StandardScaler() # from sci-kit, for the sake of documenting paranoia\n",
    "x_train = sc.fit_transform(x_train)\n",
    "x_test = sc.transform(x_test)"
   ]
  },
  {
   "cell_type": "markdown",
   "id": "5c910f17",
   "metadata": {},
   "source": [
    "I favor XGBoost for multiclassification problems; I did some hyperparameter tuning off-screen to... no noticeable difference, so, mostly/all defaults:"
   ]
  },
  {
   "cell_type": "markdown",
   "id": "252b2bc7",
   "metadata": {
    "slideshow": {
     "slide_type": "slide"
    }
   },
   "source": [
    "# Parameter definition/setup:"
   ]
  },
  {
   "cell_type": "code",
   "execution_count": 28,
   "id": "b074ab15",
   "metadata": {
    "slideshow": {
     "slide_type": "fragment"
    }
   },
   "outputs": [
    {
     "data": {
      "text/plain": [
       "count    14379.000000\n",
       "mean         2.233465\n",
       "std          2.907931\n",
       "min          0.000000\n",
       "25%          0.000000\n",
       "50%          1.000000\n",
       "75%          3.000000\n",
       "max         14.000000\n",
       "Name: Target_Class, dtype: float64"
      ]
     },
     "execution_count": 28,
     "metadata": {},
     "output_type": "execute_result"
    }
   ],
   "source": [
    "df.Target_Class.describe() \n",
    "# max of 14, i.e. 0 - > 14 therefore 15 classes"
   ]
  },
  {
   "cell_type": "code",
   "execution_count": 34,
   "id": "d0ec3eef",
   "metadata": {
    "slideshow": {
     "slide_type": "fragment"
    }
   },
   "outputs": [],
   "source": [
    "x_train_xg = xgb.DMatrix(x_train, label=y_train)\n",
    "x_test_xg = xgb.DMatrix(x_test,  label=y_test)\n",
    "x_train_xg = xgb.DMatrix(x_train, label=y_train)\n",
    "x_test_xg = xgb.DMatrix(x_test,  label=y_test)\n",
    "\n",
    "# initialize params for xgboost\n",
    "params = {} \n",
    "# i've seen and i'm pretty sure done implementation with this stuff in here,\n",
    "# but weird errors in VSCode\n",
    "\n",
    "# for classification, using softmax (as would be done in pytorch)\n",
    "params['objective'] = 'multi:softmax'\n",
    "params['num_class'] = 15 # 0 - 14 indeces for the L1 classes\n",
    "params['eta'] = 0.3  # DEFAULT 0.3; aka learning_rate\n",
    "params['max_depth'] = 6  # DEFAULT 6\n",
    "params['scale_pos_weight'] = 100 # default 1 so let's see , # i think??\n",
    "epochs = 5  # seems to work best, 1000 didn't improve accuracy \n",
    "\n",
    "# to see evolution of the model:\n",
    "watchlist = [(x_train_xg, 'train'), (x_test_xg, 'test')]\n",
    "\n",
    "# FIXME!! add code for grid search. ideally extensible to pytorch etc."
   ]
  },
  {
   "cell_type": "markdown",
   "id": "a7337abf",
   "metadata": {},
   "source": [
    "And now for our model!!..."
   ]
  },
  {
   "cell_type": "markdown",
   "id": "2cd53a4b",
   "metadata": {
    "slideshow": {
     "slide_type": "slide"
    }
   },
   "source": [
    "# MODELING!"
   ]
  },
  {
   "cell_type": "code",
   "execution_count": 35,
   "id": "37bbca93",
   "metadata": {
    "slideshow": {
     "slide_type": "slide"
    }
   },
   "outputs": [
    {
     "name": "stdout",
     "output_type": "stream",
     "text": [
      "[06:24:17] WARNING: /home/conda/feedstock_root/build_artifacts/xgboost-split_1645117766796/work/src/learner.cc:576: \n",
      "Parameters: { \"scale_pos_weight\" } might not be used.\n",
      "\n",
      "  This could be a false alarm, with some parameters getting used by language bindings but\n",
      "  then being mistakenly passed down to XGBoost core, or some parameter actually being used\n",
      "  but getting flagged wrongly here. Please open an issue if you find any such cases.\n",
      "\n",
      "\n",
      "[06:24:18] WARNING: /home/conda/feedstock_root/build_artifacts/xgboost-split_1645117766796/work/src/learner.cc:1115: Starting in XGBoost 1.3.0, the default evaluation metric used with the objective 'multi:softmax' was changed from 'merror' to 'mlogloss'. Explicitly set eval_metric if you'd like to restore the old behavior.\n",
      "[0]\ttrain-mlogloss:2.13765\ttest-mlogloss:2.20805\n",
      "[1]\ttrain-mlogloss:1.93357\ttest-mlogloss:2.03873\n",
      "[2]\ttrain-mlogloss:1.79809\ttest-mlogloss:1.93606\n",
      "[3]\ttrain-mlogloss:1.69747\ttest-mlogloss:1.86227\n",
      "[4]\ttrain-mlogloss:1.61961\ttest-mlogloss:1.80828\n",
      "Overall error using softmax = 0.5159944367176634\n"
     ]
    }
   ],
   "source": [
    "# THE MAGIC!!!!!!\n",
    "model = xgb.train(params, x_train_xg, epochs, watchlist)\n",
    "\n",
    "# get prediction\n",
    "pred = model.predict(x_test_xg)\n",
    "\n",
    "# get performance (based on xgboost github)\n",
    "error_rate = np.sum(pred != y_test) / y_test.shape[0]\n",
    "print('Overall error using softmax = {}'.format(error_rate))"
   ]
  },
  {
   "cell_type": "markdown",
   "id": "a5f65c0b",
   "metadata": {},
   "source": [
    "Oh. Well, let's take a look at the exact numbers (the classes are still numbered per pandas factorize; below I'll print the key which aligns with 0-14... based on performance I don't think I'll look at how to make it pretty)"
   ]
  },
  {
   "cell_type": "markdown",
   "id": "101da500",
   "metadata": {
    "slideshow": {
     "slide_type": "slide"
    }
   },
   "source": [
    "# XGBoost Performance"
   ]
  },
  {
   "cell_type": "code",
   "execution_count": 36,
   "id": "39527533",
   "metadata": {
    "slideshow": {
     "slide_type": "fragment"
    }
   },
   "outputs": [
    {
     "name": "stdout",
     "output_type": "stream",
     "text": [
      "XGB Classification Report...\n",
      "              precision    recall  f1-score   support\n",
      "\n",
      "           0       0.49      0.95      0.65      1326\n",
      "           1       0.59      0.06      0.10       178\n",
      "           2       0.43      0.02      0.05       123\n",
      "           3       0.42      0.21      0.28       503\n",
      "           4       1.00      0.00      0.01       259\n",
      "           5       0.33      0.02      0.04        92\n",
      "           6       0.00      0.00      0.00        90\n",
      "           7       0.00      0.00      0.00        17\n",
      "           8       0.00      0.00      0.00        69\n",
      "           9       0.73      0.04      0.08       197\n",
      "          10       0.00      0.00      0.00         2\n",
      "          11       0.00      0.00      0.00        11\n",
      "          12       0.00      0.00      0.00         1\n",
      "          13       0.00      0.00      0.00         3\n",
      "          14       0.00      0.00      0.00         5\n",
      "\n",
      "    accuracy                           0.48      2876\n",
      "   macro avg       0.27      0.09      0.08      2876\n",
      "weighted avg       0.50      0.48      0.36      2876\n",
      "\n",
      "Index(['Enzyme', 'Transcription factor', 'Ion channel', 'Membrane receptor',\n",
      "       'Epigenetic regulator', 'Transporter', 'Structural protein',\n",
      "       'Secreted protein', 'Other cytosolic protein', 'Unclassified protein',\n",
      "       'Auxiliary transport protein', 'Other membrane protein',\n",
      "       'Surface antigen', 'Other nuclear protein', 'Adhesion'],\n",
      "      dtype='object')\n"
     ]
    },
    {
     "name": "stderr",
     "output_type": "stream",
     "text": [
      "/home/ubuntu/miniconda3/envs/vina/lib/python3.9/site-packages/sklearn/metrics/_classification.py:1327: UndefinedMetricWarning: Precision and F-score are ill-defined and being set to 0.0 in labels with no predicted samples. Use `zero_division` parameter to control this behavior.\n",
      "  _warn_prf(average, modifier, msg_start, len(result))\n",
      "/home/ubuntu/miniconda3/envs/vina/lib/python3.9/site-packages/sklearn/metrics/_classification.py:1327: UndefinedMetricWarning: Precision and F-score are ill-defined and being set to 0.0 in labels with no predicted samples. Use `zero_division` parameter to control this behavior.\n",
      "  _warn_prf(average, modifier, msg_start, len(result))\n",
      "/home/ubuntu/miniconda3/envs/vina/lib/python3.9/site-packages/sklearn/metrics/_classification.py:1327: UndefinedMetricWarning: Precision and F-score are ill-defined and being set to 0.0 in labels with no predicted samples. Use `zero_division` parameter to control this behavior.\n",
      "  _warn_prf(average, modifier, msg_start, len(result))\n"
     ]
    }
   ],
   "source": [
    "print('XGB Classification Report...')\n",
    "print(classification_report(y_test,pred))\n",
    "print(uniques) # this is the key"
   ]
  },
  {
   "cell_type": "markdown",
   "id": "30dd0e2b",
   "metadata": {},
   "source": [
    "\"I'm not angry, just disappointed.\" Is how I'd describe how I feel about those results. To discuss a little:\n",
    "'support' details the number of samples of that class, e.g. there were 1326 actual enzyme samples that were fed into the model; of those predictions to be enzymes, half of the predictions were correct; 90% of the enzyme predictions that did occur were good; but, looking at the rest of the data, one can surmise that the model was overfitted to enzymes; they are the vast majority of this sample of the dataset, so it checks out.\n",
    "\n",
    "I also test a Naive Bayes below, which actually performs even worse; this shows XG is doing better here, but it may be due to overfitting. Either way, not a success; but I'm getting ahead of myself."
   ]
  },
  {
   "cell_type": "markdown",
   "id": "73b482cc",
   "metadata": {
    "slideshow": {
     "slide_type": "slide"
    }
   },
   "source": [
    "# Try with Naive-Bayes"
   ]
  },
  {
   "cell_type": "code",
   "execution_count": 37,
   "id": "fe8a25de",
   "metadata": {
    "slideshow": {
     "slide_type": "fragment"
    }
   },
   "outputs": [
    {
     "name": "stdout",
     "output_type": "stream",
     "text": [
      "GNB overall accuracy:\n",
      "0.28372739916550765\n",
      "GNB Classification Report...\n",
      "              precision    recall  f1-score   support\n",
      "\n",
      "           0       0.49      0.47      0.48      1326\n",
      "           1       0.20      0.01      0.02       178\n",
      "           2       0.00      0.00      0.00       123\n",
      "           3       0.24      0.03      0.06       503\n",
      "           4       0.13      0.64      0.21       259\n",
      "           5       0.08      0.03      0.05        92\n",
      "           6       0.00      0.00      0.00        90\n",
      "           7       0.00      0.00      0.00        17\n",
      "           8       0.00      0.00      0.00        69\n",
      "           9       0.00      0.00      0.00       197\n",
      "          10       0.00      0.00      0.00         2\n",
      "          11       0.01      0.09      0.03        11\n",
      "          12       0.00      0.00      0.00         1\n",
      "          13       0.00      0.00      0.00         3\n",
      "          14       0.11      0.20      0.14         5\n",
      "\n",
      "    accuracy                           0.28      2876\n",
      "   macro avg       0.08      0.10      0.07      2876\n",
      "weighted avg       0.29      0.28      0.25      2876\n",
      "\n"
     ]
    },
    {
     "name": "stderr",
     "output_type": "stream",
     "text": [
      "/home/ubuntu/miniconda3/envs/vina/lib/python3.9/site-packages/sklearn/metrics/_classification.py:1327: UndefinedMetricWarning: Precision and F-score are ill-defined and being set to 0.0 in labels with no predicted samples. Use `zero_division` parameter to control this behavior.\n",
      "  _warn_prf(average, modifier, msg_start, len(result))\n",
      "/home/ubuntu/miniconda3/envs/vina/lib/python3.9/site-packages/sklearn/metrics/_classification.py:1327: UndefinedMetricWarning: Precision and F-score are ill-defined and being set to 0.0 in labels with no predicted samples. Use `zero_division` parameter to control this behavior.\n",
      "  _warn_prf(average, modifier, msg_start, len(result))\n",
      "/home/ubuntu/miniconda3/envs/vina/lib/python3.9/site-packages/sklearn/metrics/_classification.py:1327: UndefinedMetricWarning: Precision and F-score are ill-defined and being set to 0.0 in labels with no predicted samples. Use `zero_division` parameter to control this behavior.\n",
      "  _warn_prf(average, modifier, msg_start, len(result))\n"
     ]
    }
   ],
   "source": [
    "\n",
    "# the sklearn split method is somehow introducing problems\n",
    "\n",
    "x_train = np.nan_to_num(x_train)\n",
    "y_train = np.nan_to_num(y_train)\n",
    "x_test = np.nan_to_num(x_test)\n",
    "y_test = np.nan_to_num(y_test)\n",
    "\n",
    "# VERY STRANGE! BUT PREVENTS BELOW FROM EXPERIENCING HORRIBLE ERRORS\n",
    "\n",
    "modelGNB = GaussianNB()\n",
    "modelGNB.fit(x_train, y_train)\n",
    "\n",
    "gnb_pred = modelGNB.predict(x_test)\n",
    "print(\"GNB overall accuracy:\")\n",
    "print(metrics.accuracy_score(y_test, gnb_pred))\n",
    "print(\"GNB Classification Report...\")\n",
    "print(classification_report(y_test,gnb_pred))"
   ]
  },
  {
   "cell_type": "code",
   "execution_count": null,
   "id": "0dbecd2f",
   "metadata": {},
   "outputs": [],
   "source": []
  },
  {
   "cell_type": "markdown",
   "id": "b47b2f64",
   "metadata": {},
   "source": [
    "The GNB model seems to be less fit to the enzymes, performs worse and perhaps gives a better idea of how well these two models are performing.\n",
    "\n",
    "--------\n",
    "\n",
    "\n",
    "A very lackluster outcome, but not unexpected. 'Enzymes' alone describes a plethora of proteins. I've been working with hemoproteins for a bit, and the entire class mostly binds heme-b and heme-c, with one type of hemoprotein ONLY binding siroheme. The specificity of many proteins is amazing, and consequently I'm not surprised it's so difficult and here at least, fruitless to try and predict if a ligand will interact preferentially with a whole category of proteins.\n",
    "\n",
    "This is speaking for only 1% of the entire dataset provided; I've worked with 1% in this notebook, but when running different tests, going up to 5 or 10% took MUCH longer to run, and at least with this configuration, didn't really improve performance of the models. \n",
    "\n",
    "Given some more time (I say, bashfully, perhaps prior to a presentation) I'd likely run the whole dataset to quantify any improvement. I suspect the best way to improve from here would be to take equivalent sample sizes of each L1 category and feed that into the models to avoid overfitting for one category. After evaluating that performance I'd look at the distributions of different predicted properties per L1 category. \n",
    "\n",
    "\n",
    "... So, if one wants to negate all that I've just discussed, go above to 'QQQQ' and comment as needed, will train the model on everything.\n",
    "\n",
    "-------\n",
    "\n",
    "I'll end by providing a cell below to process holdout data and call the XGB model above, and output similar metrics. Change the CSV name and then scroll down to output; I was a little lazy but this should generate all the requisite data as above and then feed in for predictions.\n",
    "\n",
    "Thanks for your time and consideration."
   ]
  }
 ],
 "metadata": {
  "celltoolbar": "Slideshow",
  "kernelspec": {
   "display_name": "Python 3 (ipykernel)",
   "language": "python",
   "name": "python3"
  },
  "language_info": {
   "codemirror_mode": {
    "name": "ipython",
    "version": 3
   },
   "file_extension": ".py",
   "mimetype": "text/x-python",
   "name": "python",
   "nbconvert_exporter": "python",
   "pygments_lexer": "ipython3",
   "version": "3.9.7"
  },
  "vscode": {
   "interpreter": {
    "hash": "e8925fd10aa88e4e739fc26e7e70d91bb35eb8af06ce4c53084949db471ca342"
   }
  }
 },
 "nbformat": 4,
 "nbformat_minor": 5
}
